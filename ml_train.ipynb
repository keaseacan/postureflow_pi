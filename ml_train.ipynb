{
 "cells": [
  {
   "cell_type": "code",
   "execution_count": null,
   "id": "e40e16fd",
   "metadata": {},
   "outputs": [],
   "source": [
    "ml training file"
   ]
  },
  {
   "cell_type": "code",
   "execution_count": null,
   "id": "3c2871d1",
   "metadata": {},
   "outputs": [],
   "source": [
    "penis\n"
   ]
  }
 ],
 "metadata": {
  "language_info": {
   "name": "python"
  }
 },
 "nbformat": 4,
 "nbformat_minor": 5
}
